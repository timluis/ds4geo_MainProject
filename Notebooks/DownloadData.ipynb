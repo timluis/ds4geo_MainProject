{
 "metadata": {
  "language_info": {
   "codemirror_mode": {
    "name": "ipython",
    "version": 3
   },
   "file_extension": ".py",
   "mimetype": "text/x-python",
   "name": "python",
   "nbconvert_exporter": "python",
   "pygments_lexer": "ipython3",
   "version": "3.8.5-final"
  },
  "orig_nbformat": 2,
  "kernelspec": {
   "name": "python3",
   "display_name": "Python 3.8.5 64-bit ('MainProject': conda)",
   "metadata": {
    "interpreter": {
     "hash": "cf1f2c18c871f073d0d70e8655669846a109a487feb7f397908a3493ac3221c0"
    }
   }
  }
 },
 "nbformat": 4,
 "nbformat_minor": 2,
 "cells": [
  {
   "cell_type": "code",
   "execution_count": 1,
   "metadata": {},
   "outputs": [
    {
     "output_type": "stream",
     "name": "stdout",
     "text": [
      "c:\\Users\\timph\\GitHub\\ds4geo_MainProject\n"
     ]
    }
   ],
   "source": [
    "cd .."
   ]
  },
  {
   "cell_type": "code",
   "execution_count": 2,
   "metadata": {},
   "outputs": [],
   "source": [
    "import geopandas as gpd \n",
    "import pandas as pd \n",
    "import matplotlib.pyplot as plt \n",
    "import rasterio\n",
    "from rasterio.plot import show\n",
    "\n",
    "from sentinelhub import SHConfig, MimeType, CRS, BBox, SentinelHubRequest, SentinelHubDownloadClient, \\\n",
    "    DataCollection, bbox_to_dimensions, DownloadRequest,time_utils,SentinelHubBatch\n",
    "import datetime\n",
    "import numpy as np\n",
    "import Processing as pc "
   ]
  },
  {
   "cell_type": "code",
   "execution_count": 3,
   "metadata": {},
   "outputs": [],
   "source": [
    "ski_areas = gpd.read_file('https://services3.arcgis.com/hG7UfxX49PQ8XkXh/arcgis/rest/services/URP_Schigebietsgrenzen/FeatureServer/0/query?where=1%3D1&outFields=*&outSR=4326&f=json')"
   ]
  },
  {
   "cell_type": "code",
   "execution_count": 4,
   "metadata": {},
   "outputs": [],
   "source": [
    "CLIENT_ID = '7d99e5b3-11f6-4b44-907c-b056294eee86'\n",
    "CLIENT_SECRET = 'wV[i9n]PkAw>?Jy-e3IK]Fn.-^yX[t3wa<)8Ch7R'"
   ]
  },
  {
   "cell_type": "code",
   "execution_count": 5,
   "metadata": {},
   "outputs": [],
   "source": [
    "config = SHConfig()\n",
    "config.sh_client_id = CLIENT_ID\n",
    "config.sh_client_secret = CLIENT_SECRET"
   ]
  },
  {
   "cell_type": "code",
   "execution_count": 6,
   "metadata": {},
   "outputs": [],
   "source": [
    "evalscript_NDSI = \"\"\"      \n",
    "\n",
    "var NDSI = (B03 - B11) / (B03 + B11);\n",
    "var NDVI = (B08 - B04) / (B08 + B04);\n",
    "var gain = 2.5;\n",
    "\n",
    "function si(a) {\n",
    "    return (a>=0.4) ? 1 : (Math.abs(NDVI - 0.1) <= 0.025 ? 1 : 0);\n",
    "}\n",
    "\n",
    "function br(a) {\n",
    "    return a>0.3;\n",
    "}\n",
    "   \n",
    "var v = si(NDSI) && br(B03);\n",
    "\n",
    "return (v==1) ? [0,0.7,1] : [B04, B03, B02].map(a => gain * a);\n",
    "\"\"\""
   ]
  },
  {
   "cell_type": "code",
   "execution_count": 7,
   "metadata": {},
   "outputs": [],
   "source": [
    "serf_bbox, serf_size = pc.GetBBoxSize(ski_areas,'Komperdell')"
   ]
  },
  {
   "cell_type": "code",
   "execution_count": 8,
   "metadata": {},
   "outputs": [],
   "source": [
    "pc.DownloadTimeseries(datetime.date(2019,11,1),\n",
    "                      datetime.date(2019,12,31),\n",
    "                      evalscript_NDSI,\n",
    "                      serf_bbox,\n",
    "                      serf_size,\n",
    "                      config,\n",
    "                      ski_area='Komperdell')"
   ]
  },
  {
   "cell_type": "code",
   "execution_count": null,
   "metadata": {},
   "outputs": [],
   "source": []
  }
 ]
}